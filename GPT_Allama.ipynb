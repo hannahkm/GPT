{
  "nbformat": 4,
  "nbformat_minor": 0,
  "metadata": {
    "colab": {
      "name": "GPT - Allama",
      "provenance": [],
      "collapsed_sections": [
        "pel-uBULXO2L"
      ],
      "include_colab_link": true
    },
    "kernelspec": {
      "name": "python3",
      "display_name": "Python 3"
    },
    "accelerator": "GPU"
  },
  "cells": [
    {
      "cell_type": "markdown",
      "metadata": {
        "id": "view-in-github",
        "colab_type": "text"
      },
      "source": [
        "<a href=\"https://colab.research.google.com/github/hk21042/GPT/blob/master/GPT_Allama.ipynb\" target=\"_parent\"><img src=\"https://colab.research.google.com/assets/colab-badge.svg\" alt=\"Open In Colab\"/></a>"
      ]
    },
    {
      "cell_type": "markdown",
      "metadata": {
        "id": "H7LoMj4GA4n_",
        "colab_type": "text"
      },
      "source": [
        "#  Train a GPT-2 Text-Generating Model w/ GPU For Free \n",
        "\n",
        "by [Max Woolf](http://minimaxir.com)\n",
        "\n",
        "*Last updated: August 28th, 2019*\n",
        "\n",
        "Retrain an advanced text generating neural network on any text dataset **for free on a GPU using Collaboratory** using `gpt-2-simple`!\n",
        "\n",
        "For more about `gpt-2-simple`, you can visit [this GitHub repository](https://github.com/minimaxir/gpt-2-simple).\n",
        "\n",
        "\n",
        "To get started:\n",
        "\n",
        "1. Copy this notebook to your Google Drive to keep it and save your changes. (File -> Save a Copy in Drive)\n",
        "2. Make sure you're running the notebook in Google Chrome.\n",
        "3. Run the cells below:\n"
      ]
    },
    {
      "cell_type": "code",
      "metadata": {
        "id": "KBkpRgBCBS2_",
        "colab_type": "code",
        "outputId": "6a186561-8d9c-4045-c7e1-067fee0da9f8",
        "colab": {
          "base_uri": "https://localhost:8080/",
          "height": 233
        }
      },
      "source": [
        "!pip install -q gpt-2-simple\n",
        "import gpt_2_simple as gpt2\n",
        "from datetime import datetime\n",
        "from google.colab import files"
      ],
      "execution_count": 0,
      "outputs": [
        {
          "output_type": "stream",
          "text": [
            "\u001b[?25l\r\u001b[K     |▌                               | 10kB 19.2MB/s eta 0:00:01\r\u001b[K     |█                               | 20kB 24.1MB/s eta 0:00:01\r\u001b[K     |█▌                              | 30kB 28.2MB/s eta 0:00:01\r\u001b[K     |██                              | 40kB 7.8MB/s eta 0:00:01\r\u001b[K     |██▌                             | 51kB 9.3MB/s eta 0:00:01\r\u001b[K     |███                             | 61kB 10.6MB/s eta 0:00:01\r\u001b[K     |███▋                            | 71kB 11.6MB/s eta 0:00:01\r\u001b[K     |████                            | 81kB 12.8MB/s eta 0:00:01\r\u001b[K     |████▋                           | 92kB 13.9MB/s eta 0:00:01\r\u001b[K     |█████                           | 102kB 15.0MB/s eta 0:00:01\r\u001b[K     |█████▋                          | 112kB 15.0MB/s eta 0:00:01\r\u001b[K     |██████                          | 122kB 15.0MB/s eta 0:00:01\r\u001b[K     |██████▋                         | 133kB 15.0MB/s eta 0:00:01\r\u001b[K     |███████▏                        | 143kB 15.0MB/s eta 0:00:01\r\u001b[K     |███████▋                        | 153kB 15.0MB/s eta 0:00:01\r\u001b[K     |████████▏                       | 163kB 15.0MB/s eta 0:00:01\r\u001b[K     |████████▋                       | 174kB 15.0MB/s eta 0:00:01\r\u001b[K     |█████████▏                      | 184kB 15.0MB/s eta 0:00:01\r\u001b[K     |█████████▊                      | 194kB 15.0MB/s eta 0:00:01\r\u001b[K     |██████████▏                     | 204kB 15.0MB/s eta 0:00:01\r\u001b[K     |██████████▊                     | 215kB 15.0MB/s eta 0:00:01\r\u001b[K     |███████████▏                    | 225kB 15.0MB/s eta 0:00:01\r\u001b[K     |███████████▊                    | 235kB 15.0MB/s eta 0:00:01\r\u001b[K     |████████████▏                   | 245kB 15.0MB/s eta 0:00:01\r\u001b[K     |████████████▊                   | 256kB 15.0MB/s eta 0:00:01\r\u001b[K     |█████████████▎                  | 266kB 15.0MB/s eta 0:00:01\r\u001b[K     |█████████████▊                  | 276kB 15.0MB/s eta 0:00:01\r\u001b[K     |██████████████▎                 | 286kB 15.0MB/s eta 0:00:01\r\u001b[K     |██████████████▊                 | 296kB 15.0MB/s eta 0:00:01\r\u001b[K     |███████████████▎                | 307kB 15.0MB/s eta 0:00:01\r\u001b[K     |███████████████▉                | 317kB 15.0MB/s eta 0:00:01\r\u001b[K     |████████████████▎               | 327kB 15.0MB/s eta 0:00:01\r\u001b[K     |████████████████▉               | 337kB 15.0MB/s eta 0:00:01\r\u001b[K     |█████████████████▎              | 348kB 15.0MB/s eta 0:00:01\r\u001b[K     |█████████████████▉              | 358kB 15.0MB/s eta 0:00:01\r\u001b[K     |██████████████████▎             | 368kB 15.0MB/s eta 0:00:01\r\u001b[K     |██████████████████▉             | 378kB 15.0MB/s eta 0:00:01\r\u001b[K     |███████████████████▍            | 389kB 15.0MB/s eta 0:00:01\r\u001b[K     |███████████████████▉            | 399kB 15.0MB/s eta 0:00:01\r\u001b[K     |████████████████████▍           | 409kB 15.0MB/s eta 0:00:01\r\u001b[K     |████████████████████▉           | 419kB 15.0MB/s eta 0:00:01\r\u001b[K     |█████████████████████▍          | 430kB 15.0MB/s eta 0:00:01\r\u001b[K     |██████████████████████          | 440kB 15.0MB/s eta 0:00:01\r\u001b[K     |██████████████████████▍         | 450kB 15.0MB/s eta 0:00:01\r\u001b[K     |███████████████████████         | 460kB 15.0MB/s eta 0:00:01\r\u001b[K     |███████████████████████▍        | 471kB 15.0MB/s eta 0:00:01\r\u001b[K     |████████████████████████        | 481kB 15.0MB/s eta 0:00:01\r\u001b[K     |████████████████████████▍       | 491kB 15.0MB/s eta 0:00:01\r\u001b[K     |█████████████████████████       | 501kB 15.0MB/s eta 0:00:01\r\u001b[K     |█████████████████████████▌      | 512kB 15.0MB/s eta 0:00:01\r\u001b[K     |██████████████████████████      | 522kB 15.0MB/s eta 0:00:01\r\u001b[K     |██████████████████████████▌     | 532kB 15.0MB/s eta 0:00:01\r\u001b[K     |███████████████████████████     | 542kB 15.0MB/s eta 0:00:01\r\u001b[K     |███████████████████████████▌    | 552kB 15.0MB/s eta 0:00:01\r\u001b[K     |████████████████████████████    | 563kB 15.0MB/s eta 0:00:01\r\u001b[K     |████████████████████████████▌   | 573kB 15.0MB/s eta 0:00:01\r\u001b[K     |█████████████████████████████   | 583kB 15.0MB/s eta 0:00:01\r\u001b[K     |█████████████████████████████▌  | 593kB 15.0MB/s eta 0:00:01\r\u001b[K     |██████████████████████████████  | 604kB 15.0MB/s eta 0:00:01\r\u001b[K     |██████████████████████████████▌ | 614kB 15.0MB/s eta 0:00:01\r\u001b[K     |███████████████████████████████ | 624kB 15.0MB/s eta 0:00:01\r\u001b[K     |███████████████████████████████▋| 634kB 15.0MB/s eta 0:00:01\r\u001b[K     |████████████████████████████████| 645kB 15.0MB/s \n",
            "\u001b[?25h  Building wheel for gpt-2-simple (setup.py) ... \u001b[?25l\u001b[?25hdone\n"
          ],
          "name": "stdout"
        },
        {
          "output_type": "display_data",
          "data": {
            "text/html": [
              "<p style=\"color: red;\">\n",
              "The default version of TensorFlow in Colab will soon switch to TensorFlow 2.x.<br>\n",
              "We recommend you <a href=\"https://www.tensorflow.org/guide/migrate\" target=\"_blank\">upgrade</a> now \n",
              "or ensure your notebook will continue to use TensorFlow 1.x via the <code>%tensorflow_version 1.x</code> magic:\n",
              "<a href=\"https://colab.research.google.com/notebooks/tensorflow_version.ipynb\" target=\"_blank\">more info</a>.</p>\n"
            ],
            "text/plain": [
              "<IPython.core.display.HTML object>"
            ]
          },
          "metadata": {
            "tags": []
          }
        },
        {
          "output_type": "stream",
          "text": [
            "WARNING:tensorflow:\n",
            "The TensorFlow contrib module will not be included in TensorFlow 2.0.\n",
            "For more information, please see:\n",
            "  * https://github.com/tensorflow/community/blob/master/rfcs/20180907-contrib-sunset.md\n",
            "  * https://github.com/tensorflow/addons\n",
            "  * https://github.com/tensorflow/io (for I/O related ops)\n",
            "If you depend on functionality not listed there, please file an issue.\n",
            "\n"
          ],
          "name": "stdout"
        }
      ]
    },
    {
      "cell_type": "markdown",
      "metadata": {
        "id": "Bj2IJLHP3KwE",
        "colab_type": "text"
      },
      "source": [
        "## GPU\n",
        "\n",
        "Colaboratory uses either a Nvidia T4 GPU or an Nvidia K80 GPU. The T4 is slightly faster than the old K80 for training GPT-2, and has more memory allowing you to train the larger GPT-2 models and generate more text.\n",
        "\n",
        "You can verify which GPU is active by running the cell below."
      ]
    },
    {
      "cell_type": "code",
      "metadata": {
        "id": "sUmTooTW3osf",
        "colab_type": "code",
        "outputId": "254e00de-0cca-4fd3-f54e-2c07f650b9a9",
        "colab": {
          "base_uri": "https://localhost:8080/",
          "height": 306
        }
      },
      "source": [
        "!nvidia-smi"
      ],
      "execution_count": 0,
      "outputs": [
        {
          "output_type": "stream",
          "text": [
            "Mon Nov 11 17:09:44 2019       \n",
            "+-----------------------------------------------------------------------------+\n",
            "| NVIDIA-SMI 430.50       Driver Version: 418.67       CUDA Version: 10.1     |\n",
            "|-------------------------------+----------------------+----------------------+\n",
            "| GPU  Name        Persistence-M| Bus-Id        Disp.A | Volatile Uncorr. ECC |\n",
            "| Fan  Temp  Perf  Pwr:Usage/Cap|         Memory-Usage | GPU-Util  Compute M. |\n",
            "|===============================+======================+======================|\n",
            "|   0  Tesla K80           Off  | 00000000:00:04.0 Off |                    0 |\n",
            "| N/A   45C    P8    30W / 149W |      0MiB / 11441MiB |      0%      Default |\n",
            "+-------------------------------+----------------------+----------------------+\n",
            "                                                                               \n",
            "+-----------------------------------------------------------------------------+\n",
            "| Processes:                                                       GPU Memory |\n",
            "|  GPU       PID   Type   Process name                             Usage      |\n",
            "|=============================================================================|\n",
            "|  No running processes found                                                 |\n",
            "+-----------------------------------------------------------------------------+\n"
          ],
          "name": "stdout"
        }
      ]
    },
    {
      "cell_type": "markdown",
      "metadata": {
        "id": "0wXB05bPDYxS",
        "colab_type": "text"
      },
      "source": [
        "## Downloading GPT-2\n",
        "\n",
        "If you're retraining a model on new text, you need to download the GPT-2 model first. \n",
        "\n",
        "There are three released sizes of GPT-2:\n",
        "\n",
        "* `124M` (default): the \"small\" model, 500MB on disk.\n",
        "* `355M`: the \"medium\" model, 1.5GB on disk.\n",
        "* `774M`: the \"large\" model, cannot currently be finetuned with Colaboratory but can be used to generate text from the pretrained model (see later in Notebook)\n",
        "\n",
        "Larger models have more knowledge, but take longer to finetune and longer to generate text. You can specify which base model to use by changing `model_name` in the cells below.\n",
        "\n",
        "The next cell downloads it from Google Cloud Storage and saves it in the Colaboratory VM at `/models/<model_name>`.\n",
        "\n",
        "This model isn't permanently saved in the Colaboratory VM; you'll have to redownload it if you want to retrain it at a later time."
      ]
    },
    {
      "cell_type": "code",
      "metadata": {
        "id": "P8wSlgXoDPCR",
        "colab_type": "code",
        "outputId": "180b2a59-0bd1-4ae2-e085-a079135929a3",
        "colab": {
          "base_uri": "https://localhost:8080/",
          "height": 136
        }
      },
      "source": [
        "gpt2.download_gpt2(model_name=\"124M\")"
      ],
      "execution_count": 0,
      "outputs": [
        {
          "output_type": "stream",
          "text": [
            "Fetching checkpoint: 1.05Mit [00:00, 315Mit/s]                                                      \n",
            "Fetching encoder.json: 1.05Mit [00:00, 98.6Mit/s]                                                   \n",
            "Fetching hparams.json: 1.05Mit [00:00, 327Mit/s]                                                    \n",
            "Fetching model.ckpt.data-00000-of-00001: 498Mit [00:03, 135Mit/s]                                   \n",
            "Fetching model.ckpt.index: 1.05Mit [00:00, 461Mit/s]                                                \n",
            "Fetching model.ckpt.meta: 1.05Mit [00:00, 129Mit/s]                                                 \n",
            "Fetching vocab.bpe: 1.05Mit [00:00, 168Mit/s]                                                       \n"
          ],
          "name": "stderr"
        }
      ]
    },
    {
      "cell_type": "markdown",
      "metadata": {
        "id": "N8KXuKWzQSsN",
        "colab_type": "text"
      },
      "source": [
        "## Mounting Google Drive\n",
        "\n",
        "The best way to get input text to-be-trained into the Colaboratory VM, and to get the trained model *out* of Colaboratory, is to route it through Google Drive *first*.\n",
        "\n",
        "Running this cell (which will only work in Colaboratory) will mount your personal Google Drive in the VM, which later cells can use to get data in/out. (it will ask for an auth code; that auth is not saved anywhere)"
      ]
    },
    {
      "cell_type": "code",
      "metadata": {
        "id": "puq4iC6vUAHc",
        "colab_type": "code",
        "outputId": "e5d08757-e68b-4c72-ed5c-2e413b73e43d",
        "colab": {
          "base_uri": "https://localhost:8080/",
          "height": 122
        }
      },
      "source": [
        "gpt2.mount_gdrive()"
      ],
      "execution_count": 0,
      "outputs": [
        {
          "output_type": "stream",
          "text": [
            "Go to this URL in a browser: https://accounts.google.com/o/oauth2/auth?client_id=947318989803-6bn6qk8qdgf4n4g3pfee6491hc0brc4i.apps.googleusercontent.com&redirect_uri=urn%3Aietf%3Awg%3Aoauth%3A2.0%3Aoob&scope=email%20https%3A%2F%2Fwww.googleapis.com%2Fauth%2Fdocs.test%20https%3A%2F%2Fwww.googleapis.com%2Fauth%2Fdrive%20https%3A%2F%2Fwww.googleapis.com%2Fauth%2Fdrive.photos.readonly%20https%3A%2F%2Fwww.googleapis.com%2Fauth%2Fpeopleapi.readonly&response_type=code\n",
            "\n",
            "Enter your authorization code:\n",
            "··········\n",
            "Mounted at /content/drive\n"
          ],
          "name": "stdout"
        }
      ]
    },
    {
      "cell_type": "markdown",
      "metadata": {
        "id": "BT__brhBCvJu",
        "colab_type": "text"
      },
      "source": [
        "## Uploading a Text File to be Trained to Colaboratory\n",
        "\n",
        "In the Colaboratory Notebook sidebar on the left of the screen, select *Files*. From there you can upload files:\n",
        "\n",
        "![alt text](https://i.imgur.com/TGcZT4h.png)\n",
        "\n",
        "Upload **any smaller text file**  (<10 MB) and update the file name in the cell below, then run the cell."
      ]
    },
    {
      "cell_type": "code",
      "metadata": {
        "id": "i1YQSLpls9YJ",
        "colab_type": "code",
        "outputId": "c32746ed-eff9-4570-af1d-5f19a2c0d1cd",
        "colab": {
          "base_uri": "https://localhost:8080/",
          "height": 34
        }
      },
      "source": [
        "from google.colab import drive\n",
        "drive.mount('/content/drive')"
      ],
      "execution_count": 0,
      "outputs": [
        {
          "output_type": "stream",
          "text": [
            "Drive already mounted at /content/drive; to attempt to forcibly remount, call drive.mount(\"/content/drive\", force_remount=True).\n"
          ],
          "name": "stdout"
        }
      ]
    },
    {
      "cell_type": "code",
      "metadata": {
        "id": "6OFnPCLADfll",
        "colab_type": "code",
        "colab": {}
      },
      "source": [
        "file_name = \"mydata.txt\""
      ],
      "execution_count": 0,
      "outputs": []
    },
    {
      "cell_type": "markdown",
      "metadata": {
        "id": "HeeSKtNWUedE",
        "colab_type": "text"
      },
      "source": [
        "If your text file is larger than 10MB, it is recommended to upload that file to Google Drive first, then copy that file from Google Drive to the Colaboratory VM."
      ]
    },
    {
      "cell_type": "code",
      "metadata": {
        "id": "-Z6okFD8VKtS",
        "colab_type": "code",
        "colab": {}
      },
      "source": [
        "#gpt2.copy_file_to_gdrive(file_name)\n",
        "gpt2.copy_file_from_gdrive(file_name)"
      ],
      "execution_count": 0,
      "outputs": []
    },
    {
      "cell_type": "markdown",
      "metadata": {
        "id": "LdpZQXknFNY3",
        "colab_type": "text"
      },
      "source": [
        "## Finetune GPT-2\n",
        "\n",
        "The next cell will start the actual finetuning of GPT-2. It creates a persistent TensorFlow session which stores the training config, then runs the training for the specified number of `steps`. (to have the finetuning run indefinitely, set `steps = -1`)\n",
        "\n",
        "The model checkpoints will be saved in `/checkpoint/run1` by default. The checkpoints are saved every 500 steps (can be changed) and when the cell is stopped.\n",
        "\n",
        "The training might time out after 4ish hours; make sure you end training and save the results so you don't lose them!\n",
        "\n",
        "**IMPORTANT NOTE:** If you want to rerun this cell, **restart the VM first** (Runtime -> Restart Runtime). You will need to rerun imports but not recopy files.\n",
        "\n",
        "Other optional-but-helpful parameters for `gpt2.finetune`:\n",
        "\n",
        "\n",
        "*  **`restore_from`**: Set to `fresh` to start training from the base GPT-2, or set to `latest` to restart training from an existing checkpoint.\n",
        "* **`sample_every`**: Number of steps to print example output\n",
        "* **`print_every`**: Number of steps to print training progress.\n",
        "* **`learning_rate`**:  Learning rate for the training. (default `1e-4`, can lower to `1e-5` if you have <1MB input data)\n",
        "*  **`run_name`**: subfolder within `checkpoint` to save the model. This is useful if you want to work with multiple models (will also need to specify  `run_name` when loading the model)\n",
        "* **`overwrite`**: Set to `True` if you want to continue finetuning an existing model (w/ `restore_from='latest'`) without creating duplicate copies. "
      ]
    },
    {
      "cell_type": "code",
      "metadata": {
        "id": "aeXshJM-Cuaf",
        "colab_type": "code",
        "outputId": "7696ade8-d613-4cc4-85db-15cc34931dd0",
        "colab": {
          "base_uri": "https://localhost:8080/",
          "height": 1000
        }
      },
      "source": [
        "sess = gpt2.start_tf_sess()\n",
        "\n",
        "gpt2.finetune(sess,\n",
        "              dataset=file_name,\n",
        "              model_name='124M',\n",
        "              steps=1000,\n",
        "              restore_from='fresh',\n",
        "              run_name='run1',\n",
        "              print_every=10,\n",
        "              sample_every=200,\n",
        "              save_every=500\n",
        "              )"
      ],
      "execution_count": 0,
      "outputs": [
        {
          "output_type": "stream",
          "text": [
            "WARNING:tensorflow:From /usr/local/lib/python3.6/dist-packages/gpt_2_simple/src/sample.py:17: where (from tensorflow.python.ops.array_ops) is deprecated and will be removed in a future version.\n",
            "Instructions for updating:\n",
            "Use tf.where in 2.0, which has the same broadcast rule as np.where\n",
            "Loading checkpoint models/124M/model.ckpt\n",
            "INFO:tensorflow:Restoring parameters from models/124M/model.ckpt\n"
          ],
          "name": "stdout"
        },
        {
          "output_type": "stream",
          "text": [
            "\r  0%|          | 0/1 [00:00<?, ?it/s]"
          ],
          "name": "stderr"
        },
        {
          "output_type": "stream",
          "text": [
            "Loading dataset...\n"
          ],
          "name": "stdout"
        },
        {
          "output_type": "stream",
          "text": [
            "\r100%|██████████| 1/1 [00:00<00:00,  1.59it/s]\n"
          ],
          "name": "stderr"
        },
        {
          "output_type": "stream",
          "text": [
            "dataset has 173592 tokens\n",
            "Training...\n",
            "[10 | 51.59] loss=0.98 avg=0.98\n",
            "[20 | 96.02] loss=0.93 avg=0.95\n",
            "[30 | 140.51] loss=1.03 avg=0.98\n",
            "[40 | 184.94] loss=0.82 avg=0.94\n",
            "[50 | 229.28] loss=0.83 avg=0.92\n",
            "[60 | 273.65] loss=0.77 avg=0.89\n",
            "[70 | 318.13] loss=0.84 avg=0.88\n",
            "[80 | 362.56] loss=0.79 avg=0.87\n",
            "[90 | 406.97] loss=0.74 avg=0.86\n",
            "[100 | 451.37] loss=0.87 avg=0.86\n",
            "[110 | 495.79] loss=0.67 avg=0.84\n",
            "[120 | 540.22] loss=0.68 avg=0.83\n",
            "[130 | 584.66] loss=0.51 avg=0.80\n",
            "[140 | 629.03] loss=0.69 avg=0.79\n",
            "[150 | 673.46] loss=0.61 avg=0.78\n",
            "[160 | 717.87] loss=0.56 avg=0.76\n",
            "[170 | 762.28] loss=0.48 avg=0.75\n",
            "[180 | 806.73] loss=0.48 avg=0.73\n",
            "[190 | 851.21] loss=0.39 avg=0.71\n",
            "[200 | 895.62] loss=0.59 avg=0.70\n",
            "======== SAMPLE 1 ========\n",
            "JIT-DOYS\n",
            "                                                                                                HHHHH\n",
            "                                                           also iʼm at rehearsal and\n",
            "                                             apparently the guy in front of me is like\n",
            "                                the horn and heʼs like “at my door this week asking\n",
            "                              “” like fuck\n",
            "                               “” like\n",
            "                                  also if heʼskates bc iʼve already passed on pset i donʼt\n",
            "                                   need extra blankets or stuff for mit so i had to\n",
            "                                    literally climb on fucking wednesday or smth\n",
            "                                                                                                          :/\n",
            "\"\n",
            "\"59\",\"                                                                                       :/\n",
            "                                                    it wouldnʼt affect me but iʼm skipping this one\n",
            "                                   gheoOOGWAOIGHWAOOWOOWAWHA\n",
            "                                   this bitch\n",
            "                                    sheʼs literally driving me nuts\n",
            "                                   but sheʼs just really smart and\n",
            "                                   she just came to my house with this\n",
            "                                      “bold statement of confidence�\n",
            "\n",
            "[210 | 959.36] loss=0.36 avg=0.69\n",
            "[220 | 1003.77] loss=0.35 avg=0.67\n",
            "[230 | 1048.19] loss=0.40 avg=0.66\n",
            "[240 | 1092.59] loss=0.27 avg=0.64\n",
            "[250 | 1137.05] loss=0.46 avg=0.63\n",
            "[260 | 1181.44] loss=0.30 avg=0.62\n",
            "[270 | 1225.85] loss=0.30 avg=0.60\n",
            "[280 | 1270.24] loss=0.47 avg=0.60\n",
            "[290 | 1314.65] loss=0.32 avg=0.59\n",
            "[300 | 1359.06] loss=0.26 avg=0.57\n",
            "[310 | 1403.45] loss=0.37 avg=0.57\n",
            "[320 | 1447.85] loss=0.42 avg=0.56\n",
            "[330 | 1492.25] loss=0.19 avg=0.55\n",
            "[340 | 1536.61] loss=0.19 avg=0.54\n",
            "[350 | 1581.01] loss=0.17 avg=0.52\n",
            "[360 | 1625.44] loss=0.19 avg=0.51\n",
            "[370 | 1669.83] loss=0.15 avg=0.50\n",
            "[380 | 1714.23] loss=0.18 avg=0.49\n",
            "[390 | 1758.62] loss=0.16 avg=0.48\n",
            "[400 | 1803.08] loss=0.14 avg=0.47\n",
            "======== SAMPLE 1 ========\n",
            "y\n",
            "                                                                                                              i would\n",
            "                                                                                                 no\n",
            "so he directed everyone at once and started fucking\n",
            "me too and i just landed solo top ten\n",
            "comes the class of 1946\n",
            "professor: thatʼs you\n",
            "                                                                                            a-series: that be a-\n",
            "                                     9/30/19, 3;26 AM\n",
            "class: louisian a5420 | graphically\n",
            "​LAWD SCUM\n",
            " ​​LAWD WILL JOY I SEND YOU D:\n",
            "graphically\n",
            "                                    9/30/19, 4;33 AM\n",
            "                                                                    the document says “you canʼt hurt a man with a\n",
            "                                      paper tiger” yeah?\n",
            "                                    10/30/19, 9;25 AM\n",
            "                                                                     i think the document just says “today at mit\n",
            "                                   this girl had a crush on my old lady crush\n",
            "                                                    she was v s i s sadistic\n",
            "                                         like she was sadistic for like\n",
            "                                           her brother was sadistic for like\n",
            "                                        his brother was sadistic for his brother\n",
            "                                           \n",
            "\n",
            "[410 | 1864.56] loss=0.14 avg=0.46\n",
            "[420 | 1908.98] loss=0.16 avg=0.45\n",
            "[430 | 1953.36] loss=0.19 avg=0.44\n",
            "[440 | 1997.78] loss=0.12 avg=0.43\n",
            "[450 | 2042.16] loss=0.13 avg=0.43\n",
            "[460 | 2086.57] loss=0.13 avg=0.42\n",
            "[470 | 2130.92] loss=0.14 avg=0.41\n",
            "[480 | 2175.32] loss=0.14 avg=0.40\n",
            "[490 | 2219.71] loss=0.13 avg=0.40\n",
            "[500 | 2264.08] loss=0.11 avg=0.39\n",
            "Saving checkpoint/run1/model-500\n",
            "[510 | 2311.89] loss=0.12 avg=0.38\n",
            "[520 | 2356.29] loss=0.16 avg=0.38\n",
            "[530 | 2400.68] loss=0.13 avg=0.37\n",
            "[540 | 2445.03] loss=0.14 avg=0.37\n",
            "[550 | 2489.42] loss=0.10 avg=0.36\n",
            "[560 | 2533.79] loss=0.13 avg=0.35\n",
            "[570 | 2578.21] loss=0.11 avg=0.35\n",
            "[580 | 2622.63] loss=0.10 avg=0.34\n",
            "[590 | 2667.04] loss=0.10 avg=0.34\n",
            "[600 | 2711.44] loss=0.11 avg=0.33\n",
            "======== SAMPLE 1 ========\n",
            "             fucking wholesome i live by this gormless smile\n",
            "fucking wholesome\n",
            "                                                                           i hate it but i get it on a daily basis\n",
            "\"\n",
            "\"153\",\"                                                                               i hate it but i get it on a daily basis\n",
            "fuck this shit off fuck\n",
            "                                                                      what\n",
            "                                            iʼm a hooker so hook\n",
            "                                    i donʼt give a shit what people think\n",
            "fuck you fuck\n",
            "                                                                     what      FUCK YOU\n",
            "                                                   WHAT HAVE YOU\n",
            "\"\n",
            "\"154\",\"                                                      WHAT HAVE YOU\n",
            "                                                                       WHAT HAVE YOU\n",
            "                                                                         what have you\n",
            "what have you\n",
            "                                                                      HA BITCH\n",
            "are you really whoelsome\n",
            "bitch\n",
            "                                                                    okay i have profile pictures\n",
            "                                                                 do you mcfucking\n",
            "\"\n",
            "\"156\",\"                                        like bitch how dare you\n",
            "          \n",
            "\n",
            "[610 | 2773.02] loss=0.12 avg=0.33\n",
            "[620 | 2817.46] loss=0.10 avg=0.32\n",
            "[630 | 2861.90] loss=0.12 avg=0.32\n",
            "[640 | 2906.31] loss=0.08 avg=0.31\n",
            "[650 | 2950.75] loss=0.12 avg=0.31\n",
            "[660 | 2995.14] loss=0.11 avg=0.31\n",
            "[670 | 3039.60] loss=0.10 avg=0.30\n",
            "[680 | 3084.03] loss=0.10 avg=0.30\n",
            "[690 | 3128.45] loss=0.10 avg=0.29\n",
            "[700 | 3172.84] loss=0.09 avg=0.29\n",
            "[710 | 3217.28] loss=0.12 avg=0.29\n",
            "[720 | 3261.68] loss=0.08 avg=0.28\n",
            "[730 | 3306.10] loss=0.08 avg=0.28\n",
            "[740 | 3350.54] loss=0.10 avg=0.27\n",
            "[750 | 3394.93] loss=0.08 avg=0.27\n",
            "[760 | 3439.33] loss=0.08 avg=0.27\n",
            "[770 | 3483.73] loss=0.07 avg=0.26\n",
            "[780 | 3528.10] loss=0.07 avg=0.26\n",
            "[790 | 3572.49] loss=0.08 avg=0.26\n",
            "[800 | 3616.86] loss=0.08 avg=0.25\n",
            "======== SAMPLE 1 ========\n",
            "                                                           iʼm going to die\n",
            "                                    but if you live you can deal with humanity\n",
            "oof\n",
            "                                                                              brain\n",
            ":0\n",
            "                                                                    tbh idk why\n",
            "                                   i think my parents actually planned and directed the\n",
            "                                     shit storm that was\n",
            "                                                      heck\n",
            "                                                                   i mean if they knew they wouldnʼt do this\n",
            "                                     like moth to moth\n",
            ":0\n",
            "                                                          dude tell me why iʼm struggling in stats\n",
            "bc stats hates you\n",
            "                                                                                  iʼm dying\n",
            "                                                                               heck\n",
            "im dying more\n",
            "                                                                                         heck\n",
            "\"\n",
            "\"97\",\"                                                      i want to see pics of this guy\n",
            "                                                                                           \n",
            "\n",
            "[810 | 3678.69] loss=0.07 avg=0.25\n",
            "[820 | 3723.14] loss=0.09 avg=0.25\n",
            "[830 | 3767.58] loss=0.08 avg=0.24\n",
            "[840 | 3812.02] loss=0.08 avg=0.24\n",
            "[850 | 3856.47] loss=0.08 avg=0.24\n",
            "[860 | 3900.85] loss=0.09 avg=0.24\n",
            "[870 | 3945.27] loss=0.07 avg=0.23\n",
            "[880 | 3989.65] loss=0.08 avg=0.23\n",
            "[890 | 4034.09] loss=0.07 avg=0.23\n",
            "[900 | 4078.51] loss=0.09 avg=0.23\n",
            "[910 | 4122.91] loss=0.07 avg=0.22\n",
            "[920 | 4167.32] loss=0.07 avg=0.22\n",
            "[930 | 4211.79] loss=0.08 avg=0.22\n",
            "[940 | 4256.21] loss=0.07 avg=0.22\n",
            "[950 | 4300.61] loss=0.07 avg=0.21\n",
            "[960 | 4345.09] loss=0.07 avg=0.21\n",
            "[970 | 4389.54] loss=0.06 avg=0.21\n",
            "[980 | 4434.02] loss=0.08 avg=0.21\n",
            "[990 | 4478.43] loss=0.07 avg=0.20\n",
            "[1000 | 4522.83] loss=0.06 avg=0.20\n",
            "Saving checkpoint/run1/model-1000\n",
            "WARNING:tensorflow:From /usr/local/lib/python3.6/dist-packages/tensorflow_core/python/training/saver.py:963: remove_checkpoint (from tensorflow.python.training.checkpoint_management) is deprecated and will be removed in a future version.\n",
            "Instructions for updating:\n",
            "Use standard file APIs to delete files with this prefix.\n"
          ],
          "name": "stdout"
        }
      ]
    },
    {
      "cell_type": "markdown",
      "metadata": {
        "id": "IXSuTNERaw6K",
        "colab_type": "text"
      },
      "source": [
        "After the model is trained, you can copy the checkpoint folder to your own Google Drive.\n",
        "\n",
        "If you want to download it to your personal computer, it's strongly recommended you copy it there first, then download from Google Drive. The checkpoint folder is copied as a `.rar` compressed file; you can download it and uncompress it locally."
      ]
    },
    {
      "cell_type": "code",
      "metadata": {
        "id": "VHdTL8NDbAh3",
        "colab_type": "code",
        "colab": {}
      },
      "source": [
        "gpt2.copy_checkpoint_to_gdrive(run_name='run1')"
      ],
      "execution_count": 0,
      "outputs": []
    },
    {
      "cell_type": "markdown",
      "metadata": {
        "id": "qQJgV_b4bmzd",
        "colab_type": "text"
      },
      "source": [
        "You're done! Feel free to go to the **Generate Text From The Trained Model** section to generate text based on your retrained model."
      ]
    },
    {
      "cell_type": "markdown",
      "metadata": {
        "id": "pel-uBULXO2L",
        "colab_type": "text"
      },
      "source": [
        "## Load a Trained Model Checkpoint\n",
        "\n",
        "Running the next cell will copy the `.rar` checkpoint file from your Google Drive into the Colaboratory VM."
      ]
    },
    {
      "cell_type": "code",
      "metadata": {
        "id": "DCcx5u7sbPTD",
        "colab_type": "code",
        "colab": {}
      },
      "source": [
        "gpt2.copy_checkpoint_from_gdrive(run_name='run1')"
      ],
      "execution_count": 0,
      "outputs": []
    },
    {
      "cell_type": "markdown",
      "metadata": {
        "id": "RTa6zf3e_9gV",
        "colab_type": "text"
      },
      "source": [
        "The next cell will allow you to load the retrained model checkpoint + metadata necessary to generate text.\n",
        "\n",
        "**IMPORTANT NOTE:** If you want to rerun this cell, **restart the VM first** (Runtime -> Restart Runtime). You will need to rerun imports but not recopy files."
      ]
    },
    {
      "cell_type": "code",
      "metadata": {
        "id": "-fxL77nvAMAX",
        "colab_type": "code",
        "colab": {}
      },
      "source": [
        "sess = gpt2.start_tf_sess()\n",
        "gpt2.load_gpt2(sess, run_name='run1')"
      ],
      "execution_count": 0,
      "outputs": []
    },
    {
      "cell_type": "markdown",
      "metadata": {
        "id": "ClJwpF_ACONp",
        "colab_type": "text"
      },
      "source": [
        "## Generate Text From The Trained Model\n",
        "\n",
        "After you've trained the model or loaded a retrained model from checkpoint, you can now generate text. `generate` generates a single text from the loaded model."
      ]
    },
    {
      "cell_type": "code",
      "metadata": {
        "id": "4RNY6RBI9LmL",
        "colab_type": "code",
        "outputId": "601291f1-c355-4b40-97c6-1e8f46ad6bb5",
        "colab": {
          "base_uri": "https://localhost:8080/",
          "height": 323
        }
      },
      "source": [
        "gpt2.generate(sess, run_name='run1')"
      ],
      "execution_count": 0,
      "outputs": [
        {
          "output_type": "stream",
          "text": [
            "                                                                                                                                 IDFK\n",
            "                                                                                       I WAS GOING TO SAY LIKE IT LOOKS LIKE A\n",
            "                                        NORMAL DORM BUT THEN IT TIRNED AND\n",
            "                                      WHAT ITS BIGGER THAN I THOUGHT\n",
            "THATS ALSO WHAT I THOUGHT WHEN I\n",
            "\"\n",
            "\"2\",\"THATS ALSO WHAT I THOUGHT WHEN I\n",
            "WALKED IN\n",
            "                                      I WAS GOING TO SAY IT LOOKS LIKE THE ONES\n",
            "                                     AT CORNELL\n",
            "                                                                                           I CANʼT EVEN CALL YOU GAY WTH\n",
            "                                                                                   IDFK\n",
            "                                                               i donʼt even want to know\n",
            "                                                                    I PROUD OF ME\n",
            "                                                                                          BITCH\n",
            "                                                                                        IM CRYING\n",
            "\"\n",
            "\"3\",\"                                           \n"
          ],
          "name": "stdout"
        }
      ]
    },
    {
      "cell_type": "markdown",
      "metadata": {
        "id": "oF4-PqF0Fl7R",
        "colab_type": "text"
      },
      "source": [
        "If you're creating an API based on your model and need to pass the generated text elsewhere, you can do `text = gpt2.generate(sess, return_as_list=True)[0]`\n",
        "\n",
        "You can also pass in a `prefix` to the generate function to force the text to start with a given character sequence and generate text from there (good if you add an indicator when the text starts).\n",
        "\n",
        "You can also generate multiple texts at a time by specifing `nsamples`. Unique to GPT-2, you can pass a `batch_size` to generate multiple samples in parallel, giving a massive speedup (in Colaboratory, set a maximum of 20 for `batch_size`).\n",
        "\n",
        "Other optional-but-helpful parameters for `gpt2.generate` and friends:\n",
        "\n",
        "*  **`length`**: Number of tokens to generate (default 1023, the maximum)\n",
        "* **`temperature`**: The higher the temperature, the crazier the text (default 0.7, recommended to keep between 0.7 and 1.0)\n",
        "* **`top_k`**: Limits the generated guesses to the top *k* guesses (default 0 which disables the behavior; if the generated output is super crazy, you may want to set `top_k=40`)\n",
        "* **`top_p`**: Nucleus sampling: limits the generated guesses to a cumulative probability. (gets good results on a dataset with `top_p=0.9`)\n",
        "* **`truncate`**: Truncates the input text until a given sequence, excluding that sequence (e.g. if `truncate='<|endoftext|>'`, the returned text will include everything before the first `<|endoftext|>`). It may be useful to combine this with a smaller `length` if the input texts are short.\n",
        "*  **`include_prefix`**: If using `truncate` and `include_prefix=False`, the specified `prefix` will not be included in the returned text."
      ]
    },
    {
      "cell_type": "code",
      "metadata": {
        "id": "8DKMc0fiej4N",
        "colab_type": "code",
        "outputId": "89aab0fc-2ed3-4113-acdf-7eb9a780ba7f",
        "colab": {
          "base_uri": "https://localhost:8080/",
          "height": 1000
        }
      },
      "source": [
        "gpt2.generate(sess,\n",
        "              length=650,\n",
        "              temperature=0.5,\n",
        "              prefix=\"HELLO\",\n",
        "              nsamples=5,\n",
        "              batch_size=5\n",
        "              )"
      ],
      "execution_count": 0,
      "outputs": [
        {
          "output_type": "stream",
          "text": [
            "HELLO\n",
            "                                                                                                                                 IDFK\n",
            "                                                                                    I AM DEAD\n",
            "                                                                                              IM CRYING\n",
            "                                                                                       also\n",
            "                                                                                                                  i hate you\n",
            "c ) (you canʼt stop me)\n",
            "\"\n",
            "\"84\",\"c ) (you canʼt stop me)\n",
            "                                                                                      yeah\n",
            "             \n",
            "====================\n",
            "HELLO\n",
            "                                                                                                                     :;\n",
            "                                                                                        :(\n",
            "                                                                               AWAKE BARS\n",
            "OH MY GOD\n",
            "YOUʼRE SPONSORED BY AWAKE BARS\n",
            "FUCKING LEGENDARY\n",
            "                                                                                      IKR\n",
            "                                                                       im going to find them\n",
            "\"\n",
            "\"161\",\"                                                                                        iʼm going to find them\n",
            "                                                                    \n",
            "====================\n",
            "HELLO\n",
            "                                                                                                  okay so about people\n",
            "                                                                                              whomst\n",
            "AND NOW IM KINDA FREAKING TF OUT\n",
            "                                                                                     IS HE NICE???/ OR IS HE CREEPY????\n",
            "\"\n",
            "\"101\",\"like he lives in my wing?\n",
            "heʼs???????? nice?????????\n",
            "like heʼs not creepy\n",
            "                                                                                                     oh\n",
            "and like part of what bothers me is that it doesnʼt\n",
            "bother me as much as i feel like it should alksdfj\n",
            "                                                                            i mean if heʼs nice?????\n",
            "                                                                        like if he is like,,,, respectful,,,,\n",
            "              \n",
            "====================\n",
            "HELLO\n",
            "                                                                                                 GOOD\n",
            "                                                                                                 GOOD\n",
            "                                                                                        GOD\n",
            "THATS ADORABLE\n",
            "GOOD LUCK\n",
            "                                                                                     BITCH\n",
            "                                                                                                        FIGHT\n",
            "                                                                                                       WHAT\n",
            "\"\n",
            "\"13\",\"okay thatʼs fair\n",
            "BUT STILL B I T C H\n",
            "                                   \n",
            "====================\n",
            "HELLO\n",
            "dude i think iʼve finally reached the level of being able toʼt\n",
            "get enough of someoneʼs hair\n",
            "like i was really happy with how it turned out\n",
            "but then i thought maybe i should talk\n",
            "about it and just ignore it\n",
            "                                                                                            mood\n",
            "                                                                                                                i hate it\n",
            "                                                                                                        no\n",
            "                                        10/6/19, 1;25 PM\n",
            "okay so iʼll read over it more carefully and leave\n",
            "comments and stuff in the morning (or later\n",
            "morning) but just from what i can see rn your\n",
            "challenges essay is definitely most powerful\n",
            "                                     10/6/19, 7;15 PM\n",
            "                                                                                  wait srsly lol\n",
            "                                   did you stay up until 3 to do it though fuck off\n",
            "   \n",
            "====================\n"
          ],
          "name": "stdout"
        }
      ]
    },
    {
      "cell_type": "markdown",
      "metadata": {
        "id": "zjjEN2Tafhl2",
        "colab_type": "text"
      },
      "source": [
        "For bulk generation, you can generate a large amount of text to a file and sort out the samples locally on your computer. The next cell will generate a generated text file with a unique timestamp.\n",
        "\n",
        "You can rerun the cells as many times as you want for even more generated texts!"
      ]
    },
    {
      "cell_type": "code",
      "metadata": {
        "id": "Fa6p6arifSL0",
        "colab_type": "code",
        "colab": {}
      },
      "source": [
        "gen_file = 'gpt2_gentext_{:%Y%m%d_%H%M%S}.txt'.format(datetime.utcnow())\n",
        "\n",
        "gpt2.generate_to_file(sess,\n",
        "                      destination_path=gen_file,\n",
        "                      length=500,\n",
        "                      temperature=0.7,\n",
        "                      nsamples=100,\n",
        "                      batch_size=20\n",
        "                      )"
      ],
      "execution_count": 0,
      "outputs": []
    },
    {
      "cell_type": "code",
      "metadata": {
        "id": "0-LRex8lfv1g",
        "colab_type": "code",
        "colab": {}
      },
      "source": [
        "# may have to run twice to get file to download\n",
        "files.download(gen_file)"
      ],
      "execution_count": 0,
      "outputs": []
    },
    {
      "cell_type": "markdown",
      "metadata": {
        "id": "QQAN3M6RT7Kj",
        "colab_type": "text"
      },
      "source": [
        "## Generate Text From The Pretrained Model\n",
        "\n",
        "If you want to generate text from the pretrained model, not a finetuned model, pass `model_name` to `gpt2.load_gpt2()` and `gpt2.generate()`.\n",
        "\n",
        "This is currently the only way to generate text from the 774M \"large\" model."
      ]
    },
    {
      "cell_type": "code",
      "metadata": {
        "id": "hsUd_jHgUZnD",
        "colab_type": "code",
        "outputId": "4e0c8a3f-3527-41c4-e3fe-3357f3f8f6c2",
        "colab": {
          "base_uri": "https://localhost:8080/",
          "height": 158
        }
      },
      "source": [
        "model_name = \"774M\"\n",
        "\n",
        "gpt2.download_gpt2(model_name=model_name)"
      ],
      "execution_count": 0,
      "outputs": [
        {
          "output_type": "stream",
          "text": [
            "Fetching checkpoint: 1.05Mit [00:00, 354Mit/s]                                                      \n",
            "Fetching encoder.json: 1.05Mit [00:00, 131Mit/s]                                                    \n",
            "Fetching hparams.json: 1.05Mit [00:00, 279Mit/s]                                                    \n",
            "Fetching model.ckpt.data-00000-of-00001: 3.10Git [00:23, 131Mit/s]                                  \n",
            "Fetching model.ckpt.index: 1.05Mit [00:00, 380Mit/s]                                                \n",
            "Fetching model.ckpt.meta: 2.10Mit [00:00, 226Mit/s]                                                 \n",
            "Fetching vocab.bpe: 1.05Mit [00:00, 199Mit/s]                                                       \n"
          ],
          "name": "stderr"
        }
      ]
    },
    {
      "cell_type": "code",
      "metadata": {
        "id": "BAe4NpKNUj2C",
        "colab_type": "code",
        "outputId": "b09bfe1d-2ff8-4b8a-fffb-273d28d5d4ae",
        "colab": {
          "base_uri": "https://localhost:8080/",
          "height": 124
        }
      },
      "source": [
        "sess = gpt2.start_tf_sess()\n",
        "\n",
        "gpt2.load_gpt2(sess, model_name=model_name)"
      ],
      "execution_count": 0,
      "outputs": [
        {
          "output_type": "stream",
          "text": [
            "WARNING: Logging before flag parsing goes to stderr.\n",
            "W0828 18:37:58.571830 139905369159552 deprecation.py:323] From /usr/local/lib/python3.6/dist-packages/tensorflow/python/training/saver.py:1276: checkpoint_exists (from tensorflow.python.training.checkpoint_management) is deprecated and will be removed in a future version.\n",
            "Instructions for updating:\n",
            "Use standard file APIs to check for files with this prefix.\n"
          ],
          "name": "stderr"
        },
        {
          "output_type": "stream",
          "text": [
            "Loading pretrained model models/774M/model.ckpt\n"
          ],
          "name": "stdout"
        }
      ]
    },
    {
      "cell_type": "code",
      "metadata": {
        "id": "-xInIZKaU104",
        "colab_type": "code",
        "outputId": "56348e28-7d08-45e3-c859-f26c0efd066d",
        "colab": {
          "base_uri": "https://localhost:8080/",
          "height": 797
        }
      },
      "source": [
        "gpt2.generate(sess,\n",
        "              model_name=model_name,\n",
        "              prefix=\"The secret of life is\",\n",
        "              length=100,\n",
        "              temperature=0.7,\n",
        "              top_p=0.9,\n",
        "              nsamples=5,\n",
        "              batch_size=5\n",
        "              )"
      ],
      "execution_count": 0,
      "outputs": [
        {
          "output_type": "stream",
          "text": [
            "The secret of life is that it's really easy to make it complicated,\" said Bill Nye, the host of the popular science show \"Bill Nye the Science Guy.\" \"And this is one of the reasons why we all need to be smarter about science, because we can't keep up with the amazing things that are going on all the time.\"\n",
            "\n",
            "While Nye is correct that \"everything that's going on all the time\" is making the world a better place, he misses the point. This is not\n",
            "====================\n",
            "The secret of life is in the rhythm of the universe. It's not a mystery. It's not a mystery to me. It's the nature of the universe. It's the beauty of the universe. It's the way the universe works. It's the way the universe is. It's the way the universe is going to work. It's the way the universe is. It's the way the universe is. It's the way the universe is. It's the way the universe is. It's the way\n",
            "====================\n",
            "The secret of life is in the universe.\n",
            "\n",
            "\n",
            "-\n",
            "\n",
            "The Red Devil\n",
            "\n",
            "It's the end of the world as we know it, and the only thing that can save us is a band of super-powered individuals known as the Red Devil.\n",
            "\n",
            "\n",
            "The Red Devil is a group of super-powered individuals who are seeking the secret of life and the only way they know how to do it is by taking on the roles of a variety of different super-powered individuals, each of which has their own\n",
            "====================\n",
            "The secret of life is in the mixing of the elements, and it is the mixing of the elements that makes life possible.\"\n",
            "\n",
            "But in the world of food science, the idea of a \"complex\" or \"complexity\" is almost entirely imaginary.\n",
            "\n",
            "As a scientist, I'm fascinated by the question of how life first began.\n",
            "\n",
            "It's the question that drives my work and the work of the scientists who work on it.\n",
            "\n",
            "My current research is exploring how microbes work in the first moments\n",
            "====================\n",
            "The secret of life is the journey of life, the search for the truth.\n",
            "\n",
            "4.4.2. The last thing you know\n",
            "\n",
            "There is nothing more important than the last thing you know.\n",
            "\n",
            "4.4.3. The little things that make all the difference\n",
            "\n",
            "The little things that make all the difference.\n",
            "\n",
            "4.4.4. The truth is the best teacher\n",
            "\n",
            "The truth is the best teacher.\n",
            "\n",
            "4.4.5. The truth is what\n",
            "====================\n"
          ],
          "name": "stdout"
        }
      ]
    },
    {
      "cell_type": "markdown",
      "metadata": {
        "id": "ig-KVgkCDCKD",
        "colab_type": "text"
      },
      "source": [
        "# Etcetera\n",
        "\n",
        "If the notebook has errors (e.g. GPU Sync Fail), force-kill the Colaboratory virtual machine and restart it with the command below:"
      ]
    },
    {
      "cell_type": "code",
      "metadata": {
        "id": "rIHiVP53FnsX",
        "colab_type": "code",
        "colab": {}
      },
      "source": [
        "!kill -9 -1"
      ],
      "execution_count": 0,
      "outputs": []
    },
    {
      "cell_type": "markdown",
      "metadata": {
        "id": "wmTXWNUygS5E",
        "colab_type": "text"
      },
      "source": [
        "# LICENSE\n",
        "\n",
        "MIT License\n",
        "\n",
        "Copyright (c) 2019 Max Woolf\n",
        "\n",
        "Permission is hereby granted, free of charge, to any person obtaining a copy\n",
        "of this software and associated documentation files (the \"Software\"), to deal\n",
        "in the Software without restriction, including without limitation the rights\n",
        "to use, copy, modify, merge, publish, distribute, sublicense, and/or sell\n",
        "copies of the Software, and to permit persons to whom the Software is\n",
        "furnished to do so, subject to the following conditions:\n",
        "\n",
        "The above copyright notice and this permission notice shall be included in all\n",
        "copies or substantial portions of the Software.\n",
        "\n",
        "THE SOFTWARE IS PROVIDED \"AS IS\", WITHOUT WARRANTY OF ANY KIND, EXPRESS OR\n",
        "IMPLIED, INCLUDING BUT NOT LIMITED TO THE WARRANTIES OF MERCHANTABILITY,\n",
        "FITNESS FOR A PARTICULAR PURPOSE AND NONINFRINGEMENT. IN NO EVENT SHALL THE\n",
        "AUTHORS OR COPYRIGHT HOLDERS BE LIABLE FOR ANY CLAIM, DAMAGES OR OTHER\n",
        "LIABILITY, WHETHER IN AN ACTION OF CONTRACT, TORT OR OTHERWISE, ARISING FROM,\n",
        "OUT OF OR IN CONNECTION WITH THE SOFTWARE OR THE USE OR OTHER DEALINGS IN THE\n",
        "SOFTWARE."
      ]
    }
  ]
}